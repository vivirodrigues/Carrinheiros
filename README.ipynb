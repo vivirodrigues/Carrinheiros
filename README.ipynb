{
 "cells": [
  {
   "cell_type": "markdown",
   "metadata": {},
   "source": [
    "# Carrinheiros\n",
    "\n",
    "\"Carrinheiros\" are collectors of recyclable materials that use human propulsion vehicles in the selective collection. The problem is that route can be very tiring for waste pickers according to the increase in vehicle weight and the roads' slope. Therefore, this work proposes a route suggestion service to minimize the collection time or the pickers' physical effort on the route. The characteristics of the scenario addressed in this proposal are the distance between collect points, the depot's geographical position, the inclination of the roads, and the use of vehicles with human propulsion. Besides, this work should consider the variation in vehicle weight along the route."
   ]
  },
  {
   "cell_type": "markdown",
   "metadata": {},
   "source": [
    "<img src=\"https://raw.githubusercontent.com/vivirodrigues/Carrinheiros/main/documentation/carrinheiro.png\">"
   ]
  },
  {
   "cell_type": "markdown",
   "metadata": {},
   "source": [
    "Tools employed in this work:\n",
    "\n",
    "* This work used the osmnx package to construct geographic graphs in Python. The osmnx documentation is available on https://osmnx.readthedocs.io/en/stable/.\n",
    "\n",
    "* The tool Networkx is used to manipulate and construct graphs in Python. The Networkx documentation is available on https://networkx.org/documentation/stable/.\n",
    "\n",
    "* The geographic data was obtained from Open Street Map (https://www.openstreetmap.org/), and Brazil's elevation data was obtained from Topodata (http://www.dsr.inpe.br/topodata/index.php).\n",
    "\n",
    "* The proposal's validation was performed through computer simulations using Simulation of Urban MObility (SUMO). The SUMO documentation is available on https://sumo.dlr.de/docs/.\n"
   ]
  },
  {
   "cell_type": "code",
   "execution_count": 1,
   "metadata": {},
   "outputs": [],
   "source": [
    "from IPython.display import Image"
   ]
  },
  {
   "cell_type": "markdown",
   "metadata": {},
   "source": [
    "To execute the simulations, access 'Main.py' file. The Main.py has the \"get_seed\" function, which provides the random seed to guarantee the reproducibility of the simulation. The seed_id input is the index of 'seeds' vector."
   ]
  },
  {
   "cell_type": "code",
   "execution_count": 2,
   "metadata": {},
   "outputs": [],
   "source": [
    "def get_seed(seed_id):\n",
    "    \n",
    "    seeds = [960703545, 1277478588, 1936856304,\n",
    "             186872697, 1859168769, 1598189534,\n",
    "             1822174485, 1871883252, 694388766,\n",
    "             188312339, 773370613, 2125204119,\n",
    "             2041095833, 1384311643, 1000004583,\n",
    "             358485174, 1695858027, 762772169,\n",
    "             437720306, 939612284, 425414105,\n",
    "             1998078925, 981631283, 1024155645,\n",
    "             558746720, 1349341884, 678622600,\n",
    "             1319566104, 538474442, 722594620,\n",
    "             1700738670, 1995749838, 1147024708,\n",
    "             346983590, 565528207, 513791680,\n",
    "             1996632795, 2081634991, 1769370802,\n",
    "             349544396, 1996610406, 1973272912,\n",
    "             1972392646, 605846893, 934100682,\n",
    "             222735214, 2101442385, 2009044369,\n",
    "             1895218768, 701857417, 89865291,\n",
    "             144443207, 720236707, 822780843,\n",
    "             898723423, 1644999263, 985046914,\n",
    "             1859531344, 1024155645, 764283187,\n",
    "             778794064, 683102175, 1334983095,\n",
    "             1072664641, 999157082]\n",
    "    \n",
    "    return seeds[seed_id]"
   ]
  },
  {
   "cell_type": "markdown",
   "metadata": {},
   "source": [
    "The 'main' function executes the experiments on the SUMO simulator. First of all, it sets the characteristics of the scenario: number of collect points, values of vehicle weight increment, city of the scenario, number of repetitions of the simulations, etc. Then, it creates pseudo-random collect points/stop points of the scenario. Finally, it calls the 'create_route' function."
   ]
  },
  {
   "cell_type": "code",
   "execution_count": 3,
   "metadata": {},
   "outputs": [],
   "source": [
    "def main():\n",
    "    \n",
    "    # number of collect points\n",
    "    n_points = 10\n",
    "\n",
    "    # maximum increment of vehicle weight at the collect point (material mass)\n",
    "    max_mass_material = 50\n",
    "\n",
    "    # random seed of mass increment\n",
    "    random.seed(get_seed(0))\n",
    "\n",
    "    # scenarios: 'Belo Horizonte' and 'Belem'\n",
    "    city = 'Belo Horizonte'\n",
    "\n",
    "    # mean of the gaussian function that creates the collect points\n",
    "    if city == 'Belo Horizonte':\n",
    "        mean_lon = [-43.9438]\n",
    "        mean_lat = [-19.9202]\n",
    "    elif city == 'Belem':\n",
    "        mean_lon = [-48.47000]\n",
    "        mean_lat = [-1.46000]\n",
    "\n",
    "    # standard deviation of the gaussian function that creates the collect points\n",
    "    sigma = 0.005    \n",
    "\n",
    "    # vector with vehicle weight increment in the collect points\n",
    "    mass_increments = [random.randint(0, max_mass_material) for i in range(n_points-2)]\n",
    "\n",
    "    # add unit of measurement of vehicle weight increment in the collect points\n",
    "    material_weights = [(mass_increments[i], 'Kg') for i in range(n_points-2)]\n",
    "\n",
    "    # the arrival point must not increment the vehicle weight\n",
    "    material_weights.append((0, 'Kg'))\n",
    "    \n",
    "    # the starting point must not increment the vehicle weight\n",
    "    material_weights.insert(0, (0, 'Kg'))\n",
    "    \n",
    "    # number of repetitions of the simulations\n",
    "    n_seeds = 30\n",
    "    \n",
    "    json_files = []\n",
    "    materials = {}\n",
    "\n",
    "    for n in range(0, n_seeds):\n",
    "        \n",
    "        # gets the current random seed\n",
    "        random.seed(get_seed(n))\n",
    "        \n",
    "        # creates a vector with pseudo-random longitude and latitude values\n",
    "        longitudes = [random.gauss(mean_lon[0], sigma) for i in range(n_points)]\n",
    "        latitudes = [random.gauss(mean_lat[0], sigma) for i in range(n_points)]\n",
    "        \n",
    "        # creates the collect points with longitude and latitudes values\n",
    "        stop_points = [(float(latitudes[i]), float(longitudes[i])) for i in range(len(latitudes))]\n",
    "        \n",
    "        # creates a dict with vehicle mass increment in each collect point\n",
    "        [materials.update([((latitudes[i], longitudes[i]), material_weights[i])]) for i in range(len(latitudes))]\n",
    "        \n",
    "        # creates the routes and writes the simulation results on json file. It returns the name of the file\n",
    "        json_files = create_route(stop_points, materials, json_files, n)\n",
    "\n"
   ]
  },
  {
   "cell_type": "markdown",
   "metadata": {},
   "source": [
    "The \"create route\" function generates two graphs: the geographic scenario graph and the ordering graph. It uses the osmnx to creates the geographic graph based on Open Street Map data. Besides, the networkx is used to generates the ordering graph, which is complete, and each vertex corresponds to a collection point. The Nearest Neighbor search is the heuristic used to order the vertexes. Also, the Shortest Path Faster Algorithm is employed to create a route between two collection points in the geographic graph.\n",
    "\n",
    "Figure 1 shows the ordering graph with a red connection between 8 and 9 vertexes. This connection corresponds to the path in the geographic graph exhibited in Figure 2."
   ]
  },
  {
   "cell_type": "markdown",
   "metadata": {},
   "source": [
    "<table>\n",
    "    <tr>\n",
    "        <td>\n",
    "            <img src=\"https://raw.githubusercontent.com/vivirodrigues/Carrinheiros/main/documentation/grafo1.png\">\n",
    "        </td>\n",
    "        <td>\n",
    "            <img src=\"https://raw.githubusercontent.com/vivirodrigues/Carrinheiros/main/documentation/grafo_a.png\">\n",
    "        </td>\n",
    "    </tr>\n",
    "    <tr>\n",
    "        <td>\n",
    "            <p>Figure 1: Ordering graph</p>\n",
    "        </td>\n",
    "        <td>\n",
    "            <p>Figure 2: Geogrpahic graph</p>\n",
    "        </td>\n",
    "    </tr>\n",
    "</table>"
   ]
  },
  {
   "cell_type": "markdown",
   "metadata": {},
   "source": [
    "The combination of SPFA and nearest neighbor provides routes based on three edge costing policies: Less Work Policy (LWP), Less Impedance Policy (LIP), and Short Distance Policy (SDP). The LWP minimizes the work required to push the vehicle, LIP avoids steep slopes and SDP minimizes the total distance. Using the first random seed (960703545), the algorithm generates three routes based on the policies:"
   ]
  },
  {
   "cell_type": "markdown",
   "metadata": {},
   "source": [
    "<table>\n",
    "    <tr>\n",
    "        <td>\n",
    "            <img src=\"https://raw.githubusercontent.com/vivirodrigues/Carrinheiros/main/documentation/weight.png\">\n",
    "        </td>\n",
    "        <td>\n",
    "            <img src=\"https://raw.githubusercontent.com/vivirodrigues/Carrinheiros/main/documentation/impedance.png\">\n",
    "        </td>\n",
    "        <td>\n",
    "            <img src=\"https://raw.githubusercontent.com/vivirodrigues/Carrinheiros/main/documentation/distance.png\">\n",
    "        </td>\n",
    "    </tr>\n",
    "    <tr>\n",
    "        <td>\n",
    "            <p>Figure 3: Route generated using LWP</p>\n",
    "        </td>\n",
    "        <td>\n",
    "            <p>Figure 4: Route generated using LIP</p>\n",
    "        </td>\n",
    "        <td>\n",
    "            <p>Figure 5: Route generated using SDP</p>\n",
    "        </td>\n",
    "    </tr>\n",
    "</table>"
   ]
  },
  {
   "cell_type": "code",
   "execution_count": null,
   "metadata": {},
   "outputs": [],
   "source": []
  }
 ],
 "metadata": {
  "kernelspec": {
   "display_name": "Python 3",
   "language": "python",
   "name": "python3"
  },
  "language_info": {
   "codemirror_mode": {
    "name": "ipython",
    "version": 3
   },
   "file_extension": ".py",
   "mimetype": "text/x-python",
   "name": "python",
   "nbconvert_exporter": "python",
   "pygments_lexer": "ipython3",
   "version": "3.7.3"
  }
 },
 "nbformat": 4,
 "nbformat_minor": 2
}
